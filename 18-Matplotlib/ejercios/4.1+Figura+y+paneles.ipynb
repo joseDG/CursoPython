{
 "cells": [
  {
   "cell_type": "markdown",
   "metadata": {},
   "source": [
    "<font color=Green>\n",
    "    \n",
    "# **4.1 Figura y paneles**\n",
    "\n",
    "</font>\n",
    "\n",
    "## <font color=#003d5c>Matplotlib</font>\n",
    "\n",
    "### Hacer gráficos y visualizaciones es una de las tareas más importantes a la hora de procesar y analízar datos. Puede formar parte del análisis exploratorio de datos para identificar valores extremos (outliers) o como medio de comunicación de resultados."
   ]
  },
  {
   "cell_type": "code",
   "execution_count": null,
   "metadata": {},
   "outputs": [],
   "source": [
    "import numpy as np\n",
    "import matplotlib.pyplot as plt"
   ]
  },
  {
   "cell_type": "markdown",
   "metadata": {},
   "source": [
    "<img src= \"https://files.realpython.com/media/fig_map.bc8c7cabd823.png\">"
   ]
  },
  {
   "cell_type": "code",
   "execution_count": null,
   "metadata": {},
   "outputs": [],
   "source": [
    "fig, panel = plt.subplots()\n",
    "\n",
    "x = np.linspace(0, 4 * np.pi, 100)\n",
    "y = np.sin(x)\n",
    "\n",
    "panel.plot(x, y)"
   ]
  },
  {
   "cell_type": "markdown",
   "metadata": {},
   "source": [
    "### Podemos crear una figura con varios paneles"
   ]
  },
  {
   "cell_type": "code",
   "execution_count": null,
   "metadata": {},
   "outputs": [],
   "source": [
    "# Crea la figura con dos paneles horizontales\n",
    "fig, (pan_1, pan_2) = plt.subplots(2, 1)\n",
    "\n",
    "# Figura 1\n",
    "x1 = np.linspace(0, 4 * np.pi, 100)\n",
    "y1 = np.sin(x1)\n",
    "\n",
    "pan_1.plot(x1, y1)\n",
    "\n",
    "# Figura 2\n",
    "x2 = np.linspace(0, 4 * np.pi, 100)\n",
    "y2 = np.cos(x2)\n",
    "\n",
    "pan_2.plot(x2, y2)\n",
    "\n",
    "\n",
    "# Guardar la figura\n",
    "plt.savefig(r'C:\\Users\\ldavidr\\Desktop\\sin_cos.png')"
   ]
  },
  {
   "cell_type": "code",
   "execution_count": null,
   "metadata": {
    "scrolled": true
   },
   "outputs": [],
   "source": [
    "# Crea la figura con dos paneles verticales\n",
    "fig, (pan_1, pan_2) = plt.subplots(1, 2, constrained_layout=True)\n",
    "\n",
    "# Figura 1\n",
    "x1 = np.linspace(0, 4 * np.pi, 100)\n",
    "y1 = np.sin(x1)\n",
    "\n",
    "pan_1.plot(x1, y1)\n",
    "\n",
    "# Figura 2\n",
    "x2 = np.linspace(0, 4 * np.pi, 100)\n",
    "y2 = np.cos(x2)\n",
    "\n",
    "pan_2.plot(x2, y2)\n",
    "\n",
    "\n",
    "plt.savefig(r'C:\\Users\\ldavidr\\Desktop\\sin_cos_vertical.png')"
   ]
  },
  {
   "cell_type": "code",
   "execution_count": null,
   "metadata": {},
   "outputs": [],
   "source": [
    "fig, ((pan_1, pan_2), (pan_3, pan_4)) = plt.subplots(2, 2,constrained_layout=True)\n",
    "\n",
    "x = np.linspace(0, 4 * np.pi, 100)\n",
    "y = np.sin(x)\n",
    "\n",
    "\n",
    "pan_1.plot(x, y)\n",
    "\n",
    "pan_2.plot(x, y**2)\n",
    "\n",
    "pan_3.plot(x, -y)\n",
    "\n",
    "pan_4.plot(x, -y**2)\n",
    "\n",
    "for ax in fig.get_axes():\n",
    "    ax.set(xlabel='x-label', ylabel='y-label')"
   ]
  },
  {
   "cell_type": "markdown",
   "metadata": {},
   "source": [
    "### El parámetro _sharex_ nos permite indicar que los paneles comparten el eje X\n",
    "### El parámetro _sharey_ nos permite indicar que los paneles comparten el eje Y"
   ]
  },
  {
   "cell_type": "code",
   "execution_count": null,
   "metadata": {},
   "outputs": [],
   "source": [
    "fig, (pan_1, pan_2) = plt.subplots(2, sharex=True)\n",
    "\n",
    "x = np.linspace(0, 4 * np.pi, 100)\n",
    "y = np.sin(x)\n",
    "\n",
    "pan_1.plot(x, y, 'tab:orange')\n",
    "\n",
    "pan_2.plot(x + 1, -y, 'green')"
   ]
  },
  {
   "cell_type": "code",
   "execution_count": null,
   "metadata": {},
   "outputs": [],
   "source": [
    "fig, (pan_1, pan_2) = plt.subplots(1,2, sharey=True)\n",
    "\n",
    "x = np.linspace(0, 4 * np.pi, 100)\n",
    "y = np.sin(x)\n",
    "\n",
    "pan_1.plot(x, y)\n",
    "\n",
    "pan_2.plot(-x, y+1)\n"
   ]
  },
  {
   "cell_type": "code",
   "execution_count": null,
   "metadata": {},
   "outputs": [],
   "source": [
    "fig, paneles = plt.subplots(2, 2, sharex='col', sharey='row')\n",
    "\n",
    "(pan_1, pan_2), (pan_3, pan_4) = paneles\n",
    "\n",
    "pan_1.plot(x, y)\n",
    "\n",
    "pan_2.plot(x, y**2, 'tab:orange')\n",
    "\n",
    "pan_3.plot(x + 1, -y, 'tab:green')\n",
    "\n",
    "pan_4.plot(x + 2, -y**2, 'tab:red')\n"
   ]
  },
  {
   "cell_type": "markdown",
   "metadata": {},
   "source": [
    "## <font color=#003d5c> _.twinx()_ </font>\n",
    "\n",
    "### Este método nos permite graficar ambas funciones en un mismo panel."
   ]
  },
  {
   "cell_type": "code",
   "execution_count": null,
   "metadata": {
    "scrolled": true
   },
   "outputs": [],
   "source": [
    "fig, pan_1 = plt.subplots(1, 1)\n",
    "\n",
    "pan_2 = pan_1.twinx()\n",
    "\n",
    "\n",
    "x1 = np.linspace(0, 4 * np.pi, 100)\n",
    "y1 = np.sin(x1)\n",
    "\n",
    "pan_1.plot(x1, y1, 'y')\n",
    "\n",
    "\n",
    "x2 = np.linspace(0, 4 * np.pi, 100)\n",
    "y2 = np.cos(x2)\n",
    "\n",
    "pan_2.plot(x2, y2, 'r')\n",
    "\n",
    "\n",
    "plt.savefig('sin_cos_2.png')"
   ]
  },
  {
   "cell_type": "raw",
   "metadata": {},
   "source": []
  }
 ],
 "metadata": {
  "kernelspec": {
   "display_name": "Python 3",
   "language": "python",
   "name": "python3"
  },
  "language_info": {
   "codemirror_mode": {
    "name": "ipython",
    "version": 3
   },
   "file_extension": ".py",
   "mimetype": "text/x-python",
   "name": "python",
   "nbconvert_exporter": "python",
   "pygments_lexer": "ipython3",
   "version": "3.7.6"
  }
 },
 "nbformat": 4,
 "nbformat_minor": 4
}
