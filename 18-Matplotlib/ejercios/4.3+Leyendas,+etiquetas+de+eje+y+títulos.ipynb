{
 "cells": [
  {
   "cell_type": "markdown",
   "metadata": {},
   "source": [
    "<font color=Green>\n",
    "    \n",
    "# **4.3 Leyendas, etiquetas de eje y títulos**\n",
    "\n",
    "</font>\n"
   ]
  },
  {
   "cell_type": "code",
   "execution_count": null,
   "metadata": {},
   "outputs": [],
   "source": [
    "import numpy as np\n",
    "import matplotlib.pyplot as plt"
   ]
  },
  {
   "cell_type": "code",
   "execution_count": null,
   "metadata": {},
   "outputs": [],
   "source": [
    "fig, pan_1 = plt.subplots(1, 1)\n",
    "\n",
    "x1 = np.linspace(0, 4 * np.pi, 100)\n",
    "y1 = np.sin(x1)\n",
    "\n",
    "\n",
    "pan_1.plot(x1, y1, label='Seno')\n",
    "\n",
    "\n",
    "pan_1.legend(loc='best')"
   ]
  },
  {
   "cell_type": "markdown",
   "metadata": {},
   "source": [
    "\n",
    "## <font color=#003d5c> _Leyendas múltiples_ </font>\n"
   ]
  },
  {
   "cell_type": "code",
   "execution_count": null,
   "metadata": {},
   "outputs": [],
   "source": [
    "fig, pan_1 = plt.subplots(1, 1)\n",
    "\n",
    "\n",
    "pan_2 = pan_1.twinx()\n",
    "\n",
    "\n",
    "x1 = np.linspace(0, 4 * np.pi, 100)\n",
    "y1 = np.sin(x1)\n",
    "\n",
    "\n",
    "funcion1 = pan_1.plot(x1, y1, color = 'b', marker = '^', markeredgecolor = 'b', markerfacecolor = 'g',\n",
    "                      label='Seno')\n",
    "\n",
    "\n",
    "x2 = np.linspace(0, 4 * np.pi, 100)\n",
    "y2 = np.cos(x2)\n",
    "\n",
    "\n",
    "funcion2 = pan_2.plot(x2, y2, color = 'r', marker = 'o', markeredgecolor = 'r', markerfacecolor = 'y',\n",
    "                      label='Coseno')\n",
    "\n",
    "\n",
    "funciones = funcion1 + funcion2\n",
    "\n",
    "labels = [f.get_label() for f in funciones]\n",
    "\n",
    "plt.legend(funciones, labels, loc='best')\n"
   ]
  },
  {
   "cell_type": "markdown",
   "metadata": {},
   "source": [
    "\n",
    "## <font color=#003d5c> _Etiquetas de eje_ </font>\n"
   ]
  },
  {
   "cell_type": "code",
   "execution_count": null,
   "metadata": {},
   "outputs": [],
   "source": [
    "fig, pan_1 = plt.subplots(1, 1)\n",
    "pan_2 = pan_1.twinx()\n",
    "x1 = np.linspace(0, 4 * np.pi, 100)\n",
    "y1 = np.sin(x1)\n",
    "funcion1 = pan_1.plot(x1, y1, color = 'b', marker = '^', markeredgecolor = 'b', markerfacecolor = 'g',\n",
    "                      label='Seno')\n",
    "x2 = np.linspace(0, 4 * np.pi, 100)\n",
    "y2 = np.cos(x2)\n",
    "funcion2 = pan_2.plot(x2, y2, color = 'r', marker = 'o', markeredgecolor = 'r', markerfacecolor = 'y',\n",
    "                      label='Coseno')\n",
    "funciones = funcion1 + funcion2\n",
    "labels = [f.get_label() for f in funciones]\n",
    "plt.legend(funciones, labels, loc='best')\n",
    "\n",
    "\n",
    "pan_1.set_xlabel('$x$')\n",
    "pan_1.set_ylabel('$y_1$')\n",
    "pan_2.set_ylabel('$y_2$')\n"
   ]
  },
  {
   "cell_type": "markdown",
   "metadata": {},
   "source": [
    "\n",
    "## <font color=#003d5c> _Título_ </font>\n"
   ]
  },
  {
   "cell_type": "code",
   "execution_count": null,
   "metadata": {},
   "outputs": [],
   "source": [
    "fig, pan_1 = plt.subplots(1, 1)\n",
    "pan_2 = pan_1.twinx()\n",
    "x1 = np.linspace(0, 4 * np.pi, 100)\n",
    "y1 = np.sin(x1)\n",
    "funcion1 = pan_1.plot(x1, y1, color = 'b', marker = '^', markeredgecolor = 'b', markerfacecolor = 'g',\n",
    "                      label='Seno')\n",
    "x2 = np.linspace(0, 4 * np.pi, 100)\n",
    "y2 = np.cos(x2)\n",
    "funcion2 = pan_2.plot(x2, y2, color = 'r', marker = 'o', markeredgecolor = 'r', markerfacecolor = 'y',\n",
    "                      label='Coseno')\n",
    "funciones = funcion1 + funcion2\n",
    "labels = [f.get_label() for f in funciones]\n",
    "plt.legend(funciones, labels, loc='best')\n",
    "\n",
    "\n",
    "pan_1.set_xlabel('$x$')\n",
    "pan_1.set_ylabel('$y_1$')\n",
    "pan_2.set_ylabel('$y_2$')\n",
    "\n",
    "\n",
    "plt.title('Seno y coseno')\n",
    "\n",
    "\n",
    "plt.tight_layout()"
   ]
  },
  {
   "cell_type": "code",
   "execution_count": null,
   "metadata": {},
   "outputs": [],
   "source": []
  }
 ],
 "metadata": {
  "kernelspec": {
   "display_name": "Python 3",
   "language": "python",
   "name": "python3"
  },
  "language_info": {
   "codemirror_mode": {
    "name": "ipython",
    "version": 3
   },
   "file_extension": ".py",
   "mimetype": "text/x-python",
   "name": "python",
   "nbconvert_exporter": "python",
   "pygments_lexer": "ipython3",
   "version": "3.7.6"
  }
 },
 "nbformat": 4,
 "nbformat_minor": 4
}
